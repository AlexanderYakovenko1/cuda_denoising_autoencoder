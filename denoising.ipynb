{
 "cells": [
  {
   "cell_type": "code",
   "execution_count": 10,
   "id": "153dc301-a512-41ba-b183-7fdc032e1043",
   "metadata": {},
   "outputs": [],
   "source": [
    "import numpy as np\n",
    "import torch\n",
    "from torch import nn\n",
    "from torch.nn import functional as F\n",
    "from torch.utils.data import Dataset, DataLoader\n",
    "from torchvision.transforms import Compose, ToTensor, Resize, Lambda\n",
    "from torchvision.datasets import MNIST\n",
    "\n",
    "from torchinfo import summary\n",
    "\n",
    "import matplotlib.pyplot as plt"
   ]
  },
  {
   "cell_type": "code",
   "execution_count": 88,
   "id": "c0454b80-9134-47d2-8f1c-72b46b36a12c",
   "metadata": {},
   "outputs": [],
   "source": [
    "class MNISTDenoiser(nn.Module):\n",
    "    def __init__(self):\n",
    "        super().__init__()\n",
    "        \n",
    "        # encoder\n",
    "        self.conv1 = nn.Conv2d(1, 32, (3, 3), padding=1)\n",
    "        self.pool1 = nn.MaxPool2d((2, 2))\n",
    "        self.conv2 = nn.Conv2d(32, 32, (3, 3), padding=1)\n",
    "        self.pool2 = nn.MaxPool2d((2, 2))\n",
    "        \n",
    "        # decoder\n",
    "        self.upconv1 = nn.ConvTranspose2d(32, 32, (3, 3), stride=2, padding=1, output_padding=1)\n",
    "        self.upconv2 = nn.ConvTranspose2d(32, 32, (3, 3), stride=2, padding=1, output_padding=1)\n",
    "        self.conv3 = nn.Conv2d(32, 1, (3, 3), padding=1)\n",
    "        \n",
    "    def forward(self, x, all_out=False):\n",
    "        # print(x.shape)\n",
    "        conv1 = self.conv1(x)\n",
    "        # print(conv1.shape)\n",
    "        pool1 = self.pool1(F.relu(conv1))\n",
    "        # print(pool1.shape)\n",
    "        conv2 = self.conv2(pool1)\n",
    "        # print(conv2.shape)\n",
    "        pool2 = self.pool2(F.relu(conv2))\n",
    "        # print(pool2.shape)\n",
    "        \n",
    "        upconv1 = self.upconv1(pool2)\n",
    "        # print(upconv1.shape)\n",
    "        upconv2 = self.upconv2(F.relu(upconv1))\n",
    "        # print(upconv2.shape)\n",
    "        \n",
    "        conv3 = self.conv3(F.relu(upconv2))\n",
    "        # print(conv3.shape)\n",
    "        \n",
    "        if all_out:\n",
    "            return F.sigmoid(conv3), [conv1, pool1, conv2, pool2, upconv1, upconv2, conv3]\n",
    "        else:\n",
    "            return F.sigmoid(conv3)"
   ]
  },
  {
   "cell_type": "code",
   "execution_count": 22,
   "id": "2454d942-a49a-4164-b34d-07863abb6bb5",
   "metadata": {},
   "outputs": [],
   "source": [
    "def add_noise(image, noise_factor = 0.4):\n",
    "    noisy_image = image + noise_factor * torch.randn(*image.shape)\n",
    "    \n",
    "    return torch.clamp(noisy_image, 0., 1.)"
   ]
  },
  {
   "cell_type": "code",
   "execution_count": 28,
   "id": "d70bc764-9ec9-45a3-8320-17a67f757dfa",
   "metadata": {},
   "outputs": [],
   "source": [
    "image_transforms = Compose([\n",
    "    ToTensor(),\n",
    "    Lambda(add_noise)\n",
    "])\n",
    "\n",
    "label_transforms = Compose([\n",
    "    ToTensor()\n",
    "])"
   ]
  },
  {
   "cell_type": "code",
   "execution_count": 13,
   "id": "b7084e64-89d4-4832-a60c-1096217b83d9",
   "metadata": {
    "tags": []
   },
   "outputs": [],
   "source": [
    "train_set = MNIST(\"./train_data\", train=True, download=True, transform=transforms)\n",
    "test_set = MNIST(\"./test_data\", train=False, download=True, transform=transforms)"
   ]
  },
  {
   "cell_type": "code",
   "execution_count": 34,
   "id": "b5fcad2c-2a49-40b0-8ad3-2caed29b0af0",
   "metadata": {},
   "outputs": [],
   "source": [
    "class NoisyMNIST(Dataset):\n",
    "    def __init__(self, train=True, transform=None, label_transforms=None):\n",
    "        path = \"./train_data\" if train else \"./test_data\"\n",
    "        self.data = MNIST(path, train=train)\n",
    "        self.transform = transform\n",
    "        self.label_transform = label_transforms\n",
    "        \n",
    "    def __len__(self):\n",
    "        return len(self.data)\n",
    "    \n",
    "    def __getitem__(self, idx):\n",
    "        image = self.data[idx][0]\n",
    "        label = self.data[idx][0]\n",
    "        \n",
    "        if self.transform is not None:\n",
    "            image = self.transform(image)\n",
    "            \n",
    "        if self.label_transform is not None:\n",
    "            label = self.label_transform(label)\n",
    "            \n",
    "        return image, label"
   ]
  },
  {
   "cell_type": "code",
   "execution_count": 44,
   "id": "be735d64-d3fe-456e-8a47-a2591e3d1361",
   "metadata": {},
   "outputs": [],
   "source": [
    "train_set = NoisyMNIST(True, image_transforms, label_transforms)\n",
    "test_set = NoisyMNIST(False, image_transforms, label_transforms)"
   ]
  },
  {
   "cell_type": "code",
   "execution_count": 45,
   "id": "0dafc970-2bef-4ac6-809f-1a273ed79426",
   "metadata": {},
   "outputs": [
    {
     "data": {
      "text/plain": [
       "<matplotlib.image.AxesImage at 0x7f36d22bd8b0>"
      ]
     },
     "execution_count": 45,
     "metadata": {},
     "output_type": "execute_result"
    },
    {
     "data": {
      "image/png": "[encoded data removed]",
      "text/plain": [
       "<Figure size 432x288 with 2 Axes>"
      ]
     },
     "metadata": {
      "needs_background": "light"
     },
     "output_type": "display_data"
    }
   ],
   "source": [
    "plt.subplot(121)\n",
    "plt.imshow(test_set[0][0][0], cmap='gray')\n",
    "plt.subplot(122)\n",
    "plt.imshow(test_set[0][1][0], cmap='gray')"
   ]
  },
  {
   "cell_type": "code",
   "execution_count": 105,
   "id": "2e3ba34a-fda4-48d9-8174-d8aae62e2c35",
   "metadata": {},
   "outputs": [],
   "source": [
    "def train(model, trainset, testset):\n",
    "    # Run model on cuda\n",
    "    device = torch.device('cuda' if torch.cuda.is_available() else 'cpu')\n",
    "    print('Using device:', device)\n",
    "\n",
    "    model.train()\n",
    "    model.to(device)\n",
    "\n",
    "    train_loader = DataLoader(trainset, batch_size=128, shuffle=True)\n",
    "    test_loader = DataLoader(testset, batch_size=128, shuffle=False)\n",
    "\n",
    "    criterion = nn.MSELoss()\n",
    "    optimizer = torch.optim.Adam(model.parameters(), lr=1e-4)\n",
    "\n",
    "    for epoch in range(10):\n",
    "        model.train()\n",
    "        train_loss = []\n",
    "        for img, labels in train_loader:\n",
    "            img, labels = img.to(device), labels.to(device)\n",
    "            \n",
    "            optimizer.zero_grad()\n",
    "            output = model(img)\n",
    "            loss = criterion(output, labels)\n",
    "            loss.backward()\n",
    "            optimizer.step()\n",
    "            \n",
    "            train_loss.append(loss.item())\n",
    "\n",
    "        val_loss = []\n",
    "        noisy = None\n",
    "        label = None\n",
    "        denoised = None\n",
    "        with torch.no_grad():\n",
    "            model.eval()\n",
    "            \n",
    "            for img, labels in test_loader:\n",
    "                img, labels = img.to(device), labels.to(device)\n",
    "                \n",
    "                output = model(img)\n",
    "                loss = criterion(output, labels)\n",
    "                val_loss.append(loss.item())\n",
    "                \n",
    "            noisy, label = testset[0]\n",
    "            denoised = model(noisy.to(device)).detach().cpu()\n",
    "    \n",
    "        print(\"Epoch {} Train Loss {:.2f} Test Loss {:.2f}\".format(epoch, np.mean(train_loss), np.mean(val_loss)))\n",
    "        plt.subplot(131)\n",
    "        plt.title(\"Noisy\")\n",
    "        plt.imshow(noisy[0], cmap='gray')\n",
    "        plt.subplot(132)\n",
    "        plt.title(\"Denoised\")\n",
    "        plt.imshow(denoised[0], cmap='gray')\n",
    "        plt.subplot(133)\n",
    "        plt.title(\"GT\")\n",
    "        plt.imshow(label[0], cmap='gray')\n",
    "        plt.show()"
   ]
  },
  {
   "cell_type": "code",
   "execution_count": 106,
   "id": "63849af1-93de-4d5f-ab3b-7bb336042775",
   "metadata": {},
   "outputs": [],
   "source": [
    "model = MNISTDenoiser()"
   ]
  },
  {
   "cell_type": "code",
   "execution_count": 107,
   "id": "72df2fcb-109f-4975-8e28-ba693b786fde",
   "metadata": {},
   "outputs": [
    {
     "data": {
      "text/plain": [
       "==========================================================================================\n",
       "Layer (type:depth-idx)                   Output Shape              Param #\n",
       "==========================================================================================\n",
       "MNISTDenoiser                            --                        --\n",
       "├─Conv2d: 1-1                            [1, 32, 28, 28]           320\n",
       "├─MaxPool2d: 1-2                         [1, 32, 14, 14]           --\n",
       "├─Conv2d: 1-3                            [1, 32, 14, 14]           9,248\n",
       "├─MaxPool2d: 1-4                         [1, 32, 7, 7]             --\n",
       "├─ConvTranspose2d: 1-5                   [1, 32, 14, 14]           9,248\n",
       "├─ConvTranspose2d: 1-6                   [1, 32, 28, 28]           9,248\n",
       "├─Conv2d: 1-7                            [1, 1, 28, 28]            289\n",
       "==========================================================================================\n",
       "Total params: 28,353\n",
       "Trainable params: 28,353\n",
       "Non-trainable params: 0\n",
       "Total mult-adds (M): 11.35\n",
       "==========================================================================================\n",
       "Input size (MB): 0.00\n",
       "Forward/backward pass size (MB): 0.51\n",
       "Params size (MB): 0.11\n",
       "Estimated Total Size (MB): 0.62\n",
       "=========================================================================================="
      ]
     },
     "execution_count": 107,
     "metadata": {},
     "output_type": "execute_result"
    }
   ],
   "source": [
    "summary(model, input_data=torch.randn(1, 1, 28, 28))"
   ]
  },
  {
   "cell_type": "code",
   "execution_count": 108,
   "id": "6094ede7-a680-455f-b728-4d374b62688e",
   "metadata": {},
   "outputs": [
    {
     "name": "stdout",
     "output_type": "stream",
     "text": [
      "Using device: cuda\n",
      "Epoch 0 Train Loss 0.11 Test Loss 0.05\n"
     ]
    },
    {
     "data": {
      "image/png": "[encoded data removed]",
      "text/plain": [
       "<Figure size 432x288 with 3 Axes>"
      ]
     },
     "metadata": {
      "needs_background": "light"
     },
     "output_type": "display_data"
    },
    {
     "name": "stdout",
     "output_type": "stream",
     "text": [
      "Epoch 1 Train Loss 0.04 Test Loss 0.02\n"
     ]
    },
    {
     "data": {
      "image/png": "[encoded data removed]",
      "text/plain": [
       "<Figure size 432x288 with 3 Axes>"
      ]
     },
     "metadata": {
      "needs_background": "light"
     },
     "output_type": "display_data"
    },
    {
     "name": "stdout",
     "output_type": "stream",
     "text": [
      "Epoch 2 Train Loss 0.02 Test Loss 0.02\n"
     ]
    },
    {
     "data": {
      "image/png": "[encoded data removed]",
      "text/plain": [
       "<Figure size 432x288 with 3 Axes>"
      ]
     },
     "metadata": {
      "needs_background": "light"
     },
     "output_type": "display_data"
    },
    {
     "name": "stdout",
     "output_type": "stream",
     "text": [
      "Epoch 3 Train Loss 0.02 Test Loss 0.01\n"
     ]
    },
    {
     "data": {
      "image/png": "[encoded data removed]",
      "text/plain": [
       "<Figure size 432x288 with 3 Axes>"
      ]
     },
     "metadata": {
      "needs_background": "light"
     },
     "output_type": "display_data"
    },
    {
     "name": "stdout",
     "output_type": "stream",
     "text": [
      "Epoch 4 Train Loss 0.01 Test Loss 0.01\n"
     ]
    },
    {
     "data": {
      "image/png": "[encoded data removed]",
      "text/plain": [
       "<Figure size 432x288 with 3 Axes>"
      ]
     },
     "metadata": {
      "needs_background": "light"
     },
     "output_type": "display_data"
    },
    {
     "name": "stdout",
     "output_type": "stream",
     "text": [
      "Epoch 5 Train Loss 0.01 Test Loss 0.01\n"
     ]
    },
    {
     "data": {
      "image/png": "[encoded data removed]",
      "text/plain": [
       "<Figure size 432x288 with 3 Axes>"
      ]
     },
     "metadata": {
      "needs_background": "light"
     },
     "output_type": "display_data"
    },
    {
     "name": "stdout",
     "output_type": "stream",
     "text": [
      "Epoch 6 Train Loss 0.01 Test Loss 0.01\n"
     ]
    },
    {
     "data": {
      "image/png": "[encoded data removed]",
      "text/plain": [
       "<Figure size 432x288 with 3 Axes>"
      ]
     },
     "metadata": {
      "needs_background": "light"
     },
     "output_type": "display_data"
    },
    {
     "name": "stdout",
     "output_type": "stream",
     "text": [
      "Epoch 7 Train Loss 0.01 Test Loss 0.01\n"
     ]
    },
    {
     "data": {
      "image/png": "[encoded data removed]",
      "text/plain": [
       "<Figure size 432x288 with 3 Axes>"
      ]
     },
     "metadata": {
      "needs_background": "light"
     },
     "output_type": "display_data"
    },
    {
     "name": "stdout",
     "output_type": "stream",
     "text": [
      "Epoch 8 Train Loss 0.01 Test Loss 0.01\n"
     ]
    },
    {
     "data": {
      "image/png": "[encoded data removed]",
      "text/plain": [
       "<Figure size 432x288 with 3 Axes>"
      ]
     },
     "metadata": {
      "needs_background": "light"
     },
     "output_type": "display_data"
    },
    {
     "name": "stdout",
     "output_type": "stream",
     "text": [
      "Epoch 9 Train Loss 0.01 Test Loss 0.01\n"
     ]
    },
    {
     "data": {
      "image/png": "[encoded data removed]",
      "text/plain": [
       "<Figure size 432x288 with 3 Axes>"
      ]
     },
     "metadata": {
      "needs_background": "light"
     },
     "output_type": "display_data"
    }
   ],
   "source": [
    "train(model, train_set, test_set)"
   ]
  },
  {
   "cell_type": "code",
   "execution_count": 109,
   "id": "f5fe6b8d-011d-4957-9027-1c67e937a4d0",
   "metadata": {},
   "outputs": [],
   "source": [
    "torch.save(model.state_dict(), \"model.pth\")"
   ]
  },
  {
   "cell_type": "code",
   "execution_count": 111,
   "id": "37aac5c4-b943-4d28-8f31-773f1eb0ee12",
   "metadata": {},
   "outputs": [],
   "source": [
    "state = torch.load(\"model.pth\")"
   ]
  },
  {
   "cell_type": "code",
   "execution_count": 112,
   "id": "64ca556b-e362-4855-b641-373de772059f",
   "metadata": {},
   "outputs": [
    {
     "data": {
      "text/plain": [
       "odict_keys(['conv1.weight', 'conv1.bias', 'conv2.weight', 'conv2.bias', 'upconv1.weight', 'upconv1.bias', 'upconv2.weight', 'upconv2.bias', 'conv3.weight', 'conv3.bias'])"
      ]
     },
     "execution_count": 112,
     "metadata": {},
     "output_type": "execute_result"
    }
   ],
   "source": [
    "state.keys()"
   ]
  },
  {
   "cell_type": "code",
   "execution_count": 154,
   "id": "9646878a-5d37-4449-9b00-7b546e88e389",
   "metadata": {},
   "outputs": [],
   "source": [
    "for layer_name in state:\n",
    "    data = state[layer_name].cpu().numpy()\n",
    "    np.save(layer_name, data)"
   ]
  },
  {
   "cell_type": "code",
   "execution_count": 121,
   "id": "8c599567-3da4-4622-8832-5cd64f665925",
   "metadata": {},
   "outputs": [
    {
     "data": {
      "text/plain": [
       "torch.Size([32, 1, 3, 3])"
      ]
     },
     "execution_count": 121,
     "metadata": {},
     "output_type": "execute_result"
    }
   ],
   "source": [
    "state['conv1.weight'].shape"
   ]
  },
  {
   "cell_type": "code",
   "execution_count": 120,
   "id": "24c6d605-5759-4ef7-8ec3-60dbbd06fe19",
   "metadata": {},
   "outputs": [
    {
     "data": {
      "text/plain": [
       "torch.Size([32, 32, 3, 3])"
      ]
     },
     "execution_count": 120,
     "metadata": {},
     "output_type": "execute_result"
    }
   ],
   "source": [
    "state['conv2.weight'].shape"
   ]
  },
  {
   "cell_type": "code",
   "execution_count": 122,
   "id": "04fe1aa8-ceff-4d6e-b11f-4c3391a5e507",
   "metadata": {},
   "outputs": [
    {
     "data": {
      "text/plain": [
       "torch.Size([1, 32, 3, 3])"
      ]
     },
     "execution_count": 122,
     "metadata": {},
     "output_type": "execute_result"
    }
   ],
   "source": [
    "state['conv3.weight'].shape"
   ]
  },
  {
   "cell_type": "code",
   "execution_count": 117,
   "id": "a1ab475d-6990-40a9-a48f-41a53742b2cf",
   "metadata": {},
   "outputs": [
    {
     "data": {
      "text/plain": [
       "36.125"
      ]
     },
     "execution_count": 117,
     "metadata": {},
     "output_type": "execute_result"
    }
   ],
   "source": [
    "9248*4/1024"
   ]
  },
  {
   "cell_type": "code",
   "execution_count": 129,
   "id": "8ff48697-c939-4e44-bcbb-9fce060a7590",
   "metadata": {},
   "outputs": [],
   "source": [
    "in_img = test_set[0][0]"
   ]
  },
  {
   "cell_type": "code",
   "execution_count": 132,
   "id": "e855af04-c79d-45c4-9834-a62594c4fe1d",
   "metadata": {},
   "outputs": [
    {
     "data": {
      "text/plain": [
       "<matplotlib.colorbar.Colorbar at 0x7f36c41253d0>"
      ]
     },
     "execution_count": 132,
     "metadata": {},
     "output_type": "execute_result"
    },
    {
     "data": {
      "image/png": "[encoded data removed]",
      "text/plain": [
       "<Figure size 432x288 with 2 Axes>"
      ]
     },
     "metadata": {
      "needs_background": "light"
     },
     "output_type": "display_data"
    }
   ],
   "source": [
    "plt.imshow(in_img[0])\n",
    "plt.colorbar()"
   ]
  },
  {
   "cell_type": "code",
   "execution_count": 135,
   "id": "77365d27-7da3-4be7-a4f0-7bc3f09c14e7",
   "metadata": {},
   "outputs": [
    {
     "name": "stderr",
     "output_type": "stream",
     "text": [
      "/home/ayakovenko/anaconda3/envs/yds/lib/python3.9/site-packages/torch/nn/functional.py:1944: UserWarning: nn.functional.sigmoid is deprecated. Use torch.sigmoid instead.\n",
      "  warnings.warn(\"nn.functional.sigmoid is deprecated. Use torch.sigmoid instead.\")\n"
     ]
    }
   ],
   "source": [
    "out_img, lay_out = model(in_img.to('cuda'), True)"
   ]
  },
  {
   "cell_type": "code",
   "execution_count": 139,
   "id": "afb212c0-ed05-48a4-a76e-910f74977ed3",
   "metadata": {},
   "outputs": [
    {
     "data": {
      "text/plain": [
       "list"
      ]
     },
     "execution_count": 139,
     "metadata": {},
     "output_type": "execute_result"
    }
   ],
   "source": [
    "type(lay_out)"
   ]
  },
  {
   "cell_type": "code",
   "execution_count": 162,
   "id": "3b8be70f-ebf1-44b0-864d-386228c0d508",
   "metadata": {},
   "outputs": [],
   "source": [
    "np.save(\"img_f4.npy\", np.array(in_img.numpy(), np.dtype('f4')))"
   ]
  },
  {
   "cell_type": "code",
   "execution_count": 158,
   "id": "204d56da-5d62-4512-85cd-0524848312f7",
   "metadata": {},
   "outputs": [
    {
     "data": {
      "text/plain": [
       "dtype('float32')"
      ]
     },
     "execution_count": 158,
     "metadata": {},
     "output_type": "execute_result"
    }
   ],
   "source": [
    "np.dtype('f4')"
   ]
  },
  {
   "cell_type": "code",
   "execution_count": 152,
   "id": "6482837f-17ce-4c6f-8f7f-879d2c51586d",
   "metadata": {},
   "outputs": [],
   "source": [
    "np.save(\"img.npy\", in_img.numpy())"
   ]
  },
  {
   "cell_type": "code",
   "execution_count": 140,
   "id": "0539c31c-98df-4ef6-85db-6bcb27e3c8ea",
   "metadata": {},
   "outputs": [],
   "source": [
    "out_img = out_img.detach().cpu()\n",
    "lay_out = [l.detach().cpu() for l in lay_out]"
   ]
  },
  {
   "cell_type": "code",
   "execution_count": 234,
   "id": "97b17443-0086-4a68-896b-b7d8fb2af97e",
   "metadata": {},
   "outputs": [
    {
     "data": {
      "text/plain": [
       "<matplotlib.colorbar.Colorbar at 0x7f36ba283970>"
      ]
     },
     "execution_count": 234,
     "metadata": {},
     "output_type": "execute_result"
    },
    {
     "data": {
      "image/png": "[encoded data removed]",
      "text/plain": [
       "<Figure size 432x288 with 2 Axes>"
      ]
     },
     "metadata": {
      "needs_background": "light"
     },
     "output_type": "display_data"
    }
   ],
   "source": [
    "plt.imshow(lay_out[0][10])\n",
    "plt.colorbar()"
   ]
  },
  {
   "cell_type": "code",
   "execution_count": 165,
   "id": "37d3cb87-e411-4e43-8567-02e84fe6fb50",
   "metadata": {},
   "outputs": [
    {
     "data": {
      "text/plain": [
       "array([], shape=(2, 0), dtype=float32)"
      ]
     },
     "execution_count": 165,
     "metadata": {},
     "output_type": "execute_result"
    }
   ],
   "source": [
    "np.load('./libnpy/tests/data/empty_f4.npy')"
   ]
  },
  {
   "cell_type": "code",
   "execution_count": 320,
   "id": "785a1560-604f-4b24-886f-f558e6d227b8",
   "metadata": {},
   "outputs": [],
   "source": [
    "out1 = np.load('./0_conv1.npy')"
   ]
  },
  {
   "cell_type": "code",
   "execution_count": 321,
   "id": "4ea5a436-4c02-4b40-b48c-5b26526c8637",
   "metadata": {},
   "outputs": [
    {
     "data": {
      "text/plain": [
       "<matplotlib.colorbar.Colorbar at 0x7f36b7cdb730>"
      ]
     },
     "execution_count": 321,
     "metadata": {},
     "output_type": "execute_result"
    },
    {
     "data": {
      "image/png": "[encoded data removed]",
      "text/plain": [
       "<Figure size 432x288 with 2 Axes>"
      ]
     },
     "metadata": {
      "needs_background": "light"
     },
     "output_type": "display_data"
    }
   ],
   "source": [
    "plt.imshow(out1[10])\n",
    "plt.colorbar()"
   ]
  },
  {
   "cell_type": "code",
   "execution_count": 322,
   "id": "93b89d58-fe29-4f79-98a7-dd9c0d4408cd",
   "metadata": {},
   "outputs": [
    {
     "data": {
      "text/plain": [
       "1.1404135e-09"
      ]
     },
     "execution_count": 322,
     "metadata": {},
     "output_type": "execute_result"
    }
   ],
   "source": [
    "np.mean(lay_out[0].numpy() - out1)"
   ]
  },
  {
   "cell_type": "code",
   "execution_count": 323,
   "id": "81a44889-a46e-4ee4-8b96-6a45e640aec7",
   "metadata": {},
   "outputs": [
    {
     "data": {
      "text/plain": [
       "<matplotlib.colorbar.Colorbar at 0x7f36b7c820d0>"
      ]
     },
     "execution_count": 323,
     "metadata": {},
     "output_type": "execute_result"
    },
    {
     "data": {
      "image/png": "[encoded data removed]",
      "text/plain": [
       "<Figure size 432x288 with 2 Axes>"
      ]
     },
     "metadata": {
      "needs_background": "light"
     },
     "output_type": "display_data"
    }
   ],
   "source": [
    "plt.imshow(lay_out[1][10])\n",
    "plt.colorbar()"
   ]
  },
  {
   "cell_type": "code",
   "execution_count": 324,
   "id": "833fe248-aa49-450f-8cd6-ab2c1583b188",
   "metadata": {},
   "outputs": [],
   "source": [
    "maxp1 = np.load('./1_maxpool1.npy')"
   ]
  },
  {
   "cell_type": "code",
   "execution_count": 325,
   "id": "8b5acf75-41ed-47c7-8ef3-5cf3450d112b",
   "metadata": {},
   "outputs": [
    {
     "data": {
      "text/plain": [
       "<matplotlib.colorbar.Colorbar at 0x7f36b7b46a30>"
      ]
     },
     "execution_count": 325,
     "metadata": {},
     "output_type": "execute_result"
    },
    {
     "data": {
      "image/png": "[encoded data removed]",
      "text/plain": [
       "<Figure size 432x288 with 2 Axes>"
      ]
     },
     "metadata": {
      "needs_background": "light"
     },
     "output_type": "display_data"
    }
   ],
   "source": [
    "plt.imshow(maxp1[10])\n",
    "plt.colorbar()"
   ]
  },
  {
   "cell_type": "code",
   "execution_count": 326,
   "id": "df74840d-e708-4c75-9a38-03911270331f",
   "metadata": {},
   "outputs": [
    {
     "data": {
      "text/plain": [
       "2.4367033e-10"
      ]
     },
     "execution_count": 326,
     "metadata": {},
     "output_type": "execute_result"
    }
   ],
   "source": [
    "np.mean(lay_out[1].numpy() - maxp1)"
   ]
  },
  {
   "cell_type": "code",
   "execution_count": 327,
   "id": "82759b7e-8714-44da-80bc-8854d5ece7e9",
   "metadata": {},
   "outputs": [
    {
     "data": {
      "text/plain": [
       "<matplotlib.colorbar.Colorbar at 0x7f36b7afea60>"
      ]
     },
     "execution_count": 327,
     "metadata": {},
     "output_type": "execute_result"
    },
    {
     "data": {
      "image/png": "[encoded data removed]",
      "text/plain": [
       "<Figure size 432x288 with 2 Axes>"
      ]
     },
     "metadata": {
      "needs_background": "light"
     },
     "output_type": "display_data"
    }
   ],
   "source": [
    "plt.imshow(lay_out[2][10])\n",
    "plt.colorbar()"
   ]
  },
  {
   "cell_type": "code",
   "execution_count": 328,
   "id": "97594429-f296-494c-bcf6-e64b5bfd5b80",
   "metadata": {},
   "outputs": [],
   "source": [
    "out2 = np.load('./2_conv2.npy')"
   ]
  },
  {
   "cell_type": "code",
   "execution_count": 329,
   "id": "e72253d9-da1e-4eee-897d-75c82abcc1ff",
   "metadata": {},
   "outputs": [
    {
     "data": {
      "text/plain": [
       "<matplotlib.colorbar.Colorbar at 0x7f36b7a42640>"
      ]
     },
     "execution_count": 329,
     "metadata": {},
     "output_type": "execute_result"
    },
    {
     "data": {
      "image/png": "[encoded data removed]",
      "text/plain": [
       "<Figure size 432x288 with 2 Axes>"
      ]
     },
     "metadata": {
      "needs_background": "light"
     },
     "output_type": "display_data"
    }
   ],
   "source": [
    "plt.imshow(out2[10])\n",
    "plt.colorbar()"
   ]
  },
  {
   "cell_type": "code",
   "execution_count": 330,
   "id": "a33218c1-416c-4532-8d7c-ae6e24bffc82",
   "metadata": {},
   "outputs": [
    {
     "data": {
      "text/plain": [
       "-7.927824e-10"
      ]
     },
     "execution_count": 330,
     "metadata": {},
     "output_type": "execute_result"
    }
   ],
   "source": [
    "np.mean(lay_out[2].numpy() - out2)"
   ]
  },
  {
   "cell_type": "code",
   "execution_count": 331,
   "id": "8030f614-3024-44d2-b8cc-e2c2ee8e8ddc",
   "metadata": {},
   "outputs": [
    {
     "data": {
      "text/plain": [
       "<matplotlib.colorbar.Colorbar at 0x7f36b1f31040>"
      ]
     },
     "execution_count": 331,
     "metadata": {},
     "output_type": "execute_result"
    },
    {
     "data": {
      "image/png": "[encoded data removed]",
      "text/plain": [
       "<Figure size 432x288 with 2 Axes>"
      ]
     },
     "metadata": {
      "needs_background": "light"
     },
     "output_type": "display_data"
    }
   ],
   "source": [
    "plt.imshow(lay_out[3][10])\n",
    "plt.colorbar()"
   ]
  },
  {
   "cell_type": "code",
   "execution_count": 332,
   "id": "921235df-e373-4019-8d02-cbd1b326fc9c",
   "metadata": {},
   "outputs": [],
   "source": [
    "maxp2 = np.load('./3_maxpool2.npy')"
   ]
  },
  {
   "cell_type": "code",
   "execution_count": 333,
   "id": "7c242833-bed4-4a92-a526-f4a77cf2d74e",
   "metadata": {},
   "outputs": [
    {
     "data": {
      "text/plain": [
       "<matplotlib.colorbar.Colorbar at 0x7f36b1edcee0>"
      ]
     },
     "execution_count": 333,
     "metadata": {},
     "output_type": "execute_result"
    },
    {
     "data": {
      "image/png": "[encoded data removed]",
      "text/plain": [
       "<Figure size 432x288 with 2 Axes>"
      ]
     },
     "metadata": {
      "needs_background": "light"
     },
     "output_type": "display_data"
    }
   ],
   "source": [
    "plt.imshow(maxp2[10])\n",
    "plt.colorbar()"
   ]
  },
  {
   "cell_type": "code",
   "execution_count": 334,
   "id": "0d0dd91b-ee66-49b1-835b-a7718da481ef",
   "metadata": {},
   "outputs": [
    {
     "data": {
      "text/plain": [
       "1.14621574e-08"
      ]
     },
     "execution_count": 334,
     "metadata": {},
     "output_type": "execute_result"
    }
   ],
   "source": [
    "np.mean(lay_out[3].numpy() - maxp2)"
   ]
  },
  {
   "cell_type": "code",
   "execution_count": 335,
   "id": "ac8f8a52-dbe2-4989-806d-9eb7a3e78678",
   "metadata": {},
   "outputs": [
    {
     "data": {
      "text/plain": [
       "<matplotlib.colorbar.Colorbar at 0x7f36b1e11eb0>"
      ]
     },
     "execution_count": 335,
     "metadata": {},
     "output_type": "execute_result"
    },
    {
     "data": {
      "image/png": "[encoded data removed]",
      "text/plain": [
       "<Figure size 432x288 with 2 Axes>"
      ]
     },
     "metadata": {
      "needs_background": "light"
     },
     "output_type": "display_data"
    }
   ],
   "source": [
    "plt.imshow(lay_out[4][10])\n",
    "plt.colorbar()"
   ]
  },
  {
   "cell_type": "code",
   "execution_count": 336,
   "id": "5814d0ae-49be-4631-9060-82de0f43e66a",
   "metadata": {},
   "outputs": [],
   "source": [
    "upconv1 = np.load('./4_upconv1.npy')"
   ]
  },
  {
   "cell_type": "code",
   "execution_count": 337,
   "id": "c1cd974a-f3fc-4e41-942a-e25efcb4acbf",
   "metadata": {},
   "outputs": [
    {
     "data": {
      "text/plain": [
       "<matplotlib.colorbar.Colorbar at 0x7f36b1d5e5b0>"
      ]
     },
     "execution_count": 337,
     "metadata": {},
     "output_type": "execute_result"
    },
    {
     "data": {
      "image/png": "[encoded data removed]",
      "text/plain": [
       "<Figure size 432x288 with 2 Axes>"
      ]
     },
     "metadata": {
      "needs_background": "light"
     },
     "output_type": "display_data"
    }
   ],
   "source": [
    "plt.imshow(upconv1[10])\n",
    "plt.colorbar()"
   ]
  },
  {
   "cell_type": "code",
   "execution_count": 338,
   "id": "e0ef3057-cec3-473f-b1a0-84638557b74c",
   "metadata": {},
   "outputs": [
    {
     "data": {
      "text/plain": [
       "1.5602623e-08"
      ]
     },
     "execution_count": 338,
     "metadata": {},
     "output_type": "execute_result"
    }
   ],
   "source": [
    "np.mean(lay_out[4].numpy() - upconv1)"
   ]
  },
  {
   "cell_type": "code",
   "execution_count": 339,
   "id": "2f04af7c-2d5d-4139-8e9c-371ab99183ab",
   "metadata": {},
   "outputs": [
    {
     "data": {
      "text/plain": [
       "<matplotlib.colorbar.Colorbar at 0x7f36b1c9ac40>"
      ]
     },
     "execution_count": 339,
     "metadata": {},
     "output_type": "execute_result"
    },
    {
     "data": {
      "image/png": "[encoded data removed]",
      "text/plain": [
       "<Figure size 432x288 with 2 Axes>"
      ]
     },
     "metadata": {
      "needs_background": "light"
     },
     "output_type": "display_data"
    }
   ],
   "source": [
    "plt.imshow(lay_out[5][10])\n",
    "plt.colorbar()"
   ]
  },
  {
   "cell_type": "code",
   "execution_count": 340,
   "id": "af24eaf3-2728-47a1-a06e-b94bdc1ad2b2",
   "metadata": {},
   "outputs": [],
   "source": [
    "upconv2 = np.load('./5_upconv2.npy')"
   ]
  },
  {
   "cell_type": "code",
   "execution_count": 341,
   "id": "f6af6351-c1d9-49e4-bf29-fb549fb35144",
   "metadata": {},
   "outputs": [
    {
     "data": {
      "text/plain": [
       "<matplotlib.colorbar.Colorbar at 0x7f36b1bd8370>"
      ]
     },
     "execution_count": 341,
     "metadata": {},
     "output_type": "execute_result"
    },
    {
     "data": {
      "image/png": "[encoded data removed]",
      "text/plain": [
       "<Figure size 432x288 with 2 Axes>"
      ]
     },
     "metadata": {
      "needs_background": "light"
     },
     "output_type": "display_data"
    }
   ],
   "source": [
    "plt.imshow(upconv2[10])\n",
    "plt.colorbar()"
   ]
  },
  {
   "cell_type": "code",
   "execution_count": 342,
   "id": "da2a6108-88bc-4774-ab78-09fad2e064dd",
   "metadata": {},
   "outputs": [
    {
     "data": {
      "text/plain": [
       "2.2745729e-08"
      ]
     },
     "execution_count": 342,
     "metadata": {},
     "output_type": "execute_result"
    }
   ],
   "source": [
    "np.mean(lay_out[5].numpy() - upconv2)"
   ]
  },
  {
   "cell_type": "code",
   "execution_count": 346,
   "id": "98a5345d-ec81-4eca-a788-559cebe9ab80",
   "metadata": {},
   "outputs": [
    {
     "data": {
      "text/plain": [
       "<matplotlib.colorbar.Colorbar at 0x7f36b1b07670>"
      ]
     },
     "execution_count": 346,
     "metadata": {},
     "output_type": "execute_result"
    },
    {
     "data": {
      "image/png": "[encoded data removed]",
      "text/plain": [
       "<Figure size 432x288 with 2 Axes>"
      ]
     },
     "metadata": {
      "needs_background": "light"
     },
     "output_type": "display_data"
    }
   ],
   "source": [
    "plt.imshow(out_img[0])\n",
    "plt.colorbar()"
   ]
  },
  {
   "cell_type": "code",
   "execution_count": 350,
   "id": "a4890569-b8d2-4b61-a3a6-272096809c13",
   "metadata": {},
   "outputs": [],
   "source": [
    "conv3 = np.load('./out.npy')"
   ]
  },
  {
   "cell_type": "code",
   "execution_count": 351,
   "id": "0421f067-cfae-4ab7-95df-6379cf844323",
   "metadata": {},
   "outputs": [
    {
     "data": {
      "text/plain": [
       "<matplotlib.colorbar.Colorbar at 0x7f36b1929df0>"
      ]
     },
     "execution_count": 351,
     "metadata": {},
     "output_type": "execute_result"
    },
    {
     "data": {
      "image/png": "[encoded data removed]",
      "text/plain": [
       "<Figure size 432x288 with 2 Axes>"
      ]
     },
     "metadata": {
      "needs_background": "light"
     },
     "output_type": "display_data"
    }
   ],
   "source": [
    "plt.imshow(conv3[0])\n",
    "plt.colorbar()"
   ]
  },
  {
   "cell_type": "code",
   "execution_count": null,
   "id": "548a0745-ce05-46ca-85cb-bd83afc7c796",
   "metadata": {},
   "outputs": [],
   "source": []
  }
 ],
 "metadata": {
  "kernelspec": {
   "display_name": "Python 3 (ipykernel)",
   "language": "python",
   "name": "python3"
  },
  "language_info": {
   "codemirror_mode": {
    "name": "ipython",
    "version": 3
   },
   "file_extension": ".py",
   "mimetype": "text/x-python",
   "name": "python",
   "nbconvert_exporter": "python",
   "pygments_lexer": "ipython3",
   "version": "3.9.7"
  }
 },
 "nbformat": 4,
 "nbformat_minor": 5
}
